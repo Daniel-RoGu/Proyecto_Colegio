{
 "cells": [
  {
   "cell_type": "code",
   "execution_count": 3,
   "id": "39292682",
   "metadata": {},
   "outputs": [
    {
     "name": "stdout",
     "output_type": "stream",
     "text": [
      "¡Conexión exitosa!\n",
      "Procedimiento almacenado llamado con éxito para todos los datos\n"
     ]
    }
   ],
   "source": [
    "import json\n",
    "import mysql.connector\n",
    "\n",
    "def llamar_procedimiento(datos):\n",
    "    try:\n",
    "        config = {\n",
    "            'user': 'root',\n",
    "            'password': 'dani1998',\n",
    "            'host': 'localhost',\n",
    "            'database': 'bd_colegio',\n",
    "            'raise_on_warnings': True\n",
    "        }\n",
    "\n",
    "        conexion = mysql.connector.connect(**config)\n",
    "        print(\"¡Conexión exitosa!\")\n",
    "\n",
    "        cursor = conexion.cursor()\n",
    "\n",
    "        for puntaje_sisben in datos:\n",
    "            grupo = puntaje_sisben\n",
    "\n",
    "            # Llamada al procedimiento con cada tipo de sangre\n",
    "            parametros = (grupo,)\n",
    "            cursor.callproc('registrarSisben', parametros)\n",
    "            conexion.commit()  # Confirmar los cambios en la base de datos\n",
    "        \n",
    "        print(\"Procedimiento almacenado llamado con éxito para todos los datos\")\n",
    "\n",
    "        cursor.close()\n",
    "        conexion.close()\n",
    "\n",
    "    except mysql.connector.Error as err:\n",
    "        print(f\"Error: {err}\")\n",
    "\n",
    "# Lectura del archivo JSON\n",
    "with open('C:\\\\Users\\\\Daniel\\\\Desktop\\\\Trabajo_Colegio\\\\Proyecto_Colegio\\\\App\\\\ProyectoColegio\\\\Archivos_Json\\\\PuntajeSisben.json', encoding='utf-8') as file:\n",
    "    data = json.load(file)\n",
    "\n",
    "# Llamada a la función con los datos del JSON\n",
    "llamar_procedimiento(data['puntaje_sisben'])\n"
   ]
  },
  {
   "cell_type": "code",
   "execution_count": null,
   "id": "75e1171f",
   "metadata": {},
   "outputs": [],
   "source": []
  }
 ],
 "metadata": {
  "kernelspec": {
   "display_name": "Python 3 (ipykernel)",
   "language": "python",
   "name": "python3"
  },
  "language_info": {
   "codemirror_mode": {
    "name": "ipython",
    "version": 3
   },
   "file_extension": ".py",
   "mimetype": "text/x-python",
   "name": "python",
   "nbconvert_exporter": "python",
   "pygments_lexer": "ipython3",
   "version": "3.11.1"
  }
 },
 "nbformat": 4,
 "nbformat_minor": 5
}
